{
 "cells": [
  {
   "cell_type": "code",
   "execution_count": null,
   "metadata": {},
   "outputs": [],
   "source": [
    "import pandas as pd"
   ]
  },
  {
   "cell_type": "code",
   "execution_count": null,
   "metadata": {},
   "outputs": [],
   "source": [
    "df = pd.read_csv('videosUS.csv')"
   ]
  },
  {
   "cell_type": "code",
   "execution_count": null,
   "metadata": {},
   "outputs": [],
   "source": [
    "df.head()"
   ]
  },
  {
   "cell_type": "code",
   "execution_count": null,
   "metadata": {},
   "outputs": [],
   "source": [
    "number_of_missing_rows = len(df) - len(df.dropna())\n",
    "print(number_of_missing_rows)"
   ]
  },
  {
   "cell_type": "code",
   "execution_count": null,
   "metadata": {},
   "outputs": [],
   "source": [
    "n_of_missing_values = df.isnull().sum().sum()\n",
    "print(n_of_missing_values)"
   ]
  },
  {
   "cell_type": "code",
   "execution_count": null,
   "metadata": {},
   "outputs": [],
   "source": [
    "cols_n = dict(df.isnull().sum())\n",
    "print(cols_n)"
   ]
  },
  {
   "cell_type": "markdown",
   "metadata": {},
   "source": [
    "# Since the number of missing trending dates, titles, channel, titles, ... is the same (466) we could assume that :\n",
    "- The Missing Values are in the MNAR category (not randomly missing)\n",
    "- The videos don't exist (in the platform from where the data was taken)"
   ]
  },
  {
   "cell_type": "code",
   "execution_count": null,
   "metadata": {},
   "outputs": [],
   "source": [
    "stats = dict([(col, {}) for col in df if (df[col].dtype == 'float64')])"
   ]
  },
  {
   "cell_type": "code",
   "execution_count": null,
   "metadata": {},
   "outputs": [],
   "source": [
    "for col in stats: \n",
    "    stats[col]['mean'] = df[col].mean()\n",
    "    stats[col]['median'] = df[col].median()\n",
    "    stats[col]['q1'] = df[col].quantile(q=0.25)\n",
    "    stats[col]['q2'] = df[col].quantile(q=0.5)\n",
    "    stats[col]['q3'] = df[col].quantile(q=.75)\n",
    "    std_dev = df[col].std()\n",
    "    stats[col]['zscore'] = [(df[col][i] - stats[col]['mean'])/(std_dev) for i in range(len(df[col]))]\n",
    "\n",
    "\n"
   ]
  },
  {
   "cell_type": "markdown",
   "metadata": {},
   "source": [
    "# Creating a zscore column for each numerical column + detecting and removing outliers"
   ]
  },
  {
   "cell_type": "code",
   "execution_count": null,
   "metadata": {},
   "outputs": [],
   "source": [
    "for col in stats:\n",
    "    df['zscore-' + col] = abs(df[col] - stats[col]['mean'])/df[col].std()\n",
    "    outliers = df[df['zscore-' + col] > 3]\n",
    "    df = df[df['zscore-' + col] < 3]"
   ]
  },
  {
   "cell_type": "code",
   "execution_count": null,
   "metadata": {},
   "outputs": [],
   "source": [
    "for col in df: \n",
    "    print(col, len(df[col].unique()))"
   ]
  },
  {
   "cell_type": "markdown",
   "metadata": {},
   "source": [
    "# we can change the type of comments_disabled\tratings_disabled\tvideo_error_or_removed to int by repalcing true with 1 and false with 0"
   ]
  },
  {
   "cell_type": "code",
   "execution_count": null,
   "metadata": {},
   "outputs": [],
   "source": [
    "n_tags = len(df['tags'])"
   ]
  },
  {
   "cell_type": "code",
   "execution_count": null,
   "metadata": {},
   "outputs": [],
   "source": [
    "n_tags"
   ]
  },
  {
   "cell_type": "code",
   "execution_count": null,
   "metadata": {},
   "outputs": [],
   "source": [
    "df['tags'].mode()"
   ]
  }
 ],
 "metadata": {
  "interpreter": {
   "hash": "2452da87068e6afe34ebc069f8fe89db8a2ae3200742d4df8b1ad7bbdf412166"
  },
  "kernelspec": {
   "display_name": "Python 3.9.7 64-bit ('base': conda)",
   "language": "python",
   "name": "python3"
  },
  "language_info": {
   "codemirror_mode": {
    "name": "ipython",
    "version": 3
   },
   "file_extension": ".py",
   "mimetype": "text/x-python",
   "name": "python",
   "nbconvert_exporter": "python",
   "pygments_lexer": "ipython3",
   "version": "3.9.7"
  },
  "orig_nbformat": 4
 },
 "nbformat": 4,
 "nbformat_minor": 2
}
